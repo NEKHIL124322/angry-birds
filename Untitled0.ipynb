{
  "nbformat": 4,
  "nbformat_minor": 0,
  "metadata": {
    "colab": {
      "provenance": [],
      "authorship_tag": "ABX9TyOIcltirOMNfTbN36QH/BzI",
      "include_colab_link": true
    },
    "kernelspec": {
      "name": "python3",
      "display_name": "Python 3"
    },
    "language_info": {
      "name": "python"
    }
  },
  "cells": [
    {
      "cell_type": "markdown",
      "metadata": {
        "id": "view-in-github",
        "colab_type": "text"
      },
      "source": [
        "<a href=\"https://colab.research.google.com/github/NEKHIL124322/angry-birds/blob/master/Untitled0.ipynb\" target=\"_parent\"><img src=\"https://colab.research.google.com/assets/colab-badge.svg\" alt=\"Open In Colab\"/></a>"
      ]
    },
    {
      "cell_type": "code",
      "execution_count": 5,
      "metadata": {
        "colab": {
          "base_uri": "https://localhost:8080/",
          "height": 0
        },
        "id": "GGQ6cvGViUHx",
        "outputId": "3b36e332-5226-416a-fda9-6ec5e87a2f13"
      },
      "outputs": [
        {
          "output_type": "stream",
          "name": "stdout",
          "text": [
            "ID of a is before addition 139002991821328\n",
            "ID of a is after addition  139002991821968\n",
            "ID of c is  139002991821328\n",
            "False\n"
          ]
        }
      ],
      "source": [
        "a=10\n",
        "b=20\n",
        "print(\"ID of a is before addition\",id(a))\n",
        "a= a+b\n",
        "print(\"ID of a is after addition \",id(a))\n",
        "\n",
        "c=10\n",
        "print(\"ID of c is \",id(c))\n",
        "\n",
        "print(a is c)"
      ]
    },
    {
      "cell_type": "code",
      "source": [
        "a=[1,2,3]\n",
        "b=[1,2,3]\n",
        "print (a is b)\n",
        "print(a==b) # comparision operator\n"
      ],
      "metadata": {
        "colab": {
          "base_uri": "https://localhost:8080/",
          "height": 0
        },
        "id": "w_zNyDU3kB6C",
        "outputId": "3c3f0db6-d415-4295-dd03-cb4ec1d6eade"
      },
      "execution_count": 10,
      "outputs": [
        {
          "output_type": "stream",
          "name": "stdout",
          "text": [
            "False\n",
            "True\n"
          ]
        }
      ]
    },
    {
      "cell_type": "code",
      "source": [
        "a={1,2,3}\n",
        "b={1,2,3}\n",
        "print(a is b)"
      ],
      "metadata": {
        "colab": {
          "base_uri": "https://localhost:8080/",
          "height": 0
        },
        "id": "Ylit5OPrkNwU",
        "outputId": "ed962d20-dea9-4edc-ea6f-06b45d86e64a"
      },
      "execution_count": 11,
      "outputs": [
        {
          "output_type": "stream",
          "name": "stdout",
          "text": [
            "False\n"
          ]
        }
      ]
    },
    {
      "cell_type": "code",
      "source": [
        "a=(1,2,3)\n",
        "b=(1,2,3)\n",
        "print (a is b)\n",
        "print(a==b) # comparision operator"
      ],
      "metadata": {
        "colab": {
          "base_uri": "https://localhost:8080/",
          "height": 0
        },
        "id": "JGZtQeQultO7",
        "outputId": "95408e28-1a6b-4bf7-a923-164b3d596b95"
      },
      "execution_count": 12,
      "outputs": [
        {
          "output_type": "stream",
          "name": "stdout",
          "text": [
            "False\n",
            "True\n"
          ]
        }
      ]
    },
    {
      "cell_type": "code",
      "source": [
        "a=[1,2,3]\n",
        "c=a\n",
        "b=[1,2,3]\n",
        "\n",
        "print (a is b)\n",
        "\n",
        "print (a is c)"
      ],
      "metadata": {
        "colab": {
          "base_uri": "https://localhost:8080/",
          "height": 0
        },
        "id": "TO9BvM_rmKgm",
        "outputId": "3ea31d70-817a-432f-a77c-2ea0d2b8447d"
      },
      "execution_count": 14,
      "outputs": [
        {
          "output_type": "stream",
          "name": "stdout",
          "text": [
            "False\n",
            "True\n"
          ]
        }
      ]
    },
    {
      "cell_type": "code",
      "source": [
        "# write a program to caliculate area of a circle\n",
        "def findArea(r):\n",
        "    PI = 3.142\n",
        "    return PI * (r*r);\n",
        "\n",
        "# Driver method\n",
        "print(\"Area is %.6f\" % findArea(5));\n"
      ],
      "metadata": {
        "colab": {
          "base_uri": "https://localhost:8080/",
          "height": 0
        },
        "id": "pxnttrM0moln",
        "outputId": "b85cce38-60b9-41cf-af5f-deceabf5064c"
      },
      "execution_count": 18,
      "outputs": [
        {
          "output_type": "stream",
          "name": "stdout",
          "text": [
            "Area is 78.550000\n"
          ]
        }
      ]
    },
    {
      "cell_type": "code",
      "source": [
        "from mmap import ACCESS_DEFAULT\n",
        "r = float(input(\"Enter the radius of the circle\"))\n",
        "\n",
        "A= 3.14*r*r\n",
        "\n",
        "print(\"Area of the circle is:  \", A )"
      ],
      "metadata": {
        "colab": {
          "base_uri": "https://localhost:8080/",
          "height": 0
        },
        "id": "NOi2IkWSnfqe",
        "outputId": "88180c54-2b74-4239-83c9-731618f6bdf4"
      },
      "execution_count": 21,
      "outputs": [
        {
          "output_type": "stream",
          "name": "stdout",
          "text": [
            "Enter the radius of the circle5\n",
            "Area of the circle is:   78.5\n"
          ]
        }
      ]
    },
    {
      "cell_type": "code",
      "source": [
        "num= int(input(\"Enter number\"))\n",
        "if(num%2==0):\n",
        "  print(\"Even\")\n",
        "else:\n",
        "  print(\"odd\")"
      ],
      "metadata": {
        "colab": {
          "base_uri": "https://localhost:8080/",
          "height": 0
        },
        "id": "IQBKOH5wobpB",
        "outputId": "ea06f365-3ad9-4669-e000-f5d6b4f85d15"
      },
      "execution_count": 23,
      "outputs": [
        {
          "output_type": "stream",
          "name": "stdout",
          "text": [
            "Enter number5\n",
            "odd\n"
          ]
        }
      ]
    },
    {
      "cell_type": "code",
      "source": [
        "a= int(input(\" Enter first Number\"))\n",
        "b= int(input(\" Enter Second Number\"))\n",
        "c= int(input(\" Enter Third Number\"))\n",
        "\n",
        "if a>b and a>c:\n",
        "  print(\"a is Largest\")\n",
        "\n",
        "elif b>c and b>a:\n",
        "  print(\"b is Largest\")\n",
        "\n",
        "else:\n",
        "  print(\"c is Largest\")\n"
      ],
      "metadata": {
        "colab": {
          "base_uri": "https://localhost:8080/",
          "height": 0
        },
        "id": "KiMvEilNplUW",
        "outputId": "f3db1cc1-3f83-4153-d5ec-c0ac5288cedf"
      },
      "execution_count": 25,
      "outputs": [
        {
          "output_type": "stream",
          "name": "stdout",
          "text": [
            " Enter first Number4\n",
            " Enter Second Number6\n",
            " Enter Third Number8\n",
            "c is Largest\n"
          ]
        }
      ]
    },
    {
      "cell_type": "code",
      "source": [
        "l=[1,2,3,4,\"Hello\",10.5]\n",
        "print(\"Hello\" in l)\n",
        "print(\"hello\" in l)"
      ],
      "metadata": {
        "colab": {
          "base_uri": "https://localhost:8080/",
          "height": 0
        },
        "id": "j9X9MoEFqf09",
        "outputId": "ff00484e-6342-4de4-8be5-9aac34e80a5d"
      },
      "execution_count": 27,
      "outputs": [
        {
          "output_type": "stream",
          "name": "stdout",
          "text": [
            "True\n",
            "False\n"
          ]
        }
      ]
    },
    {
      "cell_type": "code",
      "source": [
        "str1=\"Python Programing\"\n",
        "print('p'in str1)# as python is case sensitice so it will give false\n",
        "                # p is in small case"
      ],
      "metadata": {
        "colab": {
          "base_uri": "https://localhost:8080/",
          "height": 0
        },
        "id": "jEtKP_mdq_yy",
        "outputId": "030c1afd-18b5-4092-859d-7eedb00ee977"
      },
      "execution_count": 31,
      "outputs": [
        {
          "output_type": "stream",
          "name": "stdout",
          "text": [
            "False\n"
          ]
        }
      ]
    },
    {
      "cell_type": "code",
      "source": [
        "d={1:2,3:4,5:6,7:8}\n",
        "\n",
        "print(d.keys())\n",
        "print(d.values())\n",
        "print(6 in d)"
      ],
      "metadata": {
        "colab": {
          "base_uri": "https://localhost:8080/",
          "height": 0
        },
        "id": "tbjmLlXprc4I",
        "outputId": "1294c451-2ecf-40a0-ca91-98f4180a6008"
      },
      "execution_count": 33,
      "outputs": [
        {
          "output_type": "stream",
          "name": "stdout",
          "text": [
            "dict_keys([1, 3, 5, 7])\n",
            "dict_values([2, 4, 6, 8])\n",
            "False\n"
          ]
        }
      ]
    },
    {
      "cell_type": "code",
      "source": [
        "a=15\n",
        "b=7\n",
        "print(a+b)\n",
        "print(a-b)\n",
        "print(a*b)\n",
        "print(a%b)\n",
        "print(a//b)\n",
        "print(5**2)"
      ],
      "metadata": {
        "colab": {
          "base_uri": "https://localhost:8080/",
          "height": 0
        },
        "id": "oat8cd28r6_i",
        "outputId": "b533af60-732a-421b-a2b2-9316b51c4fbe"
      },
      "execution_count": 34,
      "outputs": [
        {
          "output_type": "stream",
          "name": "stdout",
          "text": [
            "22\n",
            "8\n",
            "105\n",
            "1\n",
            "2\n",
            "25\n"
          ]
        }
      ]
    },
    {
      "cell_type": "code",
      "source": [
        "print(True and True)\n",
        "print(0 and 1)\n",
        "print(5>3 and 4>2)\n",
        "\n"
      ],
      "metadata": {
        "colab": {
          "base_uri": "https://localhost:8080/",
          "height": 0
        },
        "id": "aAGmXmnFsZYR",
        "outputId": "f6002124-5008-4c02-d801-29b1694203f2"
      },
      "execution_count": 37,
      "outputs": [
        {
          "output_type": "stream",
          "name": "stdout",
          "text": [
            "True\n",
            "0\n",
            "True\n"
          ]
        }
      ]
    },
    {
      "cell_type": "code",
      "source": [
        "print(5 and 14 and 13)"
      ],
      "metadata": {
        "colab": {
          "base_uri": "https://localhost:8080/",
          "height": 0
        },
        "id": "JsczgMJJuHX7",
        "outputId": "11cf12fa-8d00-45e5-9bca-e98281050eb8"
      },
      "execution_count": 38,
      "outputs": [
        {
          "output_type": "stream",
          "name": "stdout",
          "text": [
            "13\n"
          ]
        }
      ]
    }
  ]
}